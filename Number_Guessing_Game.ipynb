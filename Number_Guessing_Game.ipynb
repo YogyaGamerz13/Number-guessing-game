{
  "nbformat": 4,
  "nbformat_minor": 0,
  "metadata": {
    "colab": {
      "name": "Number Guessing Game",
      "provenance": [],
      "collapsed_sections": [],
      "authorship_tag": "ABX9TyMU7W1YPxbZ1mhje2SfkL6c",
      "include_colab_link": true
    },
    "kernelspec": {
      "name": "python3",
      "display_name": "Python 3"
    },
    "language_info": {
      "name": "python"
    }
  },
  "cells": [
    {
      "cell_type": "markdown",
      "metadata": {
        "id": "view-in-github",
        "colab_type": "text"
      },
      "source": [
        "<a href=\"https://colab.research.google.com/github/YogyaGamerz13/Number-guessing-game/blob/main/Number_Guessing_Game.ipynb\" target=\"_parent\"><img src=\"https://colab.research.google.com/assets/colab-badge.svg\" alt=\"Open In Colab\"/></a>"
      ]
    },
    {
      "cell_type": "code",
      "execution_count": null,
      "metadata": {
        "id": "Bz65xTGO_fVe"
      },
      "outputs": [],
      "source": [
        "import random\n",
        "print('Number Guessing Game')\n",
        "number = random.randint(1,20)\n",
        "chances = 0\n",
        "print('Guess Number Between 1-20')\n",
        "\n",
        "while chances < 5:\n",
        "  guess = int(input(\"Enter Your Guess: \")) \n",
        "\n",
        "  if guess == number:\n",
        "    print('Congratualation You Won!!')\n",
        "    break\n",
        "\n",
        "  elif guess < number:\n",
        "    print(\"Your Guess Was Too Low, Guess Higher\", guess)\n",
        "\n",
        "  else:\n",
        "    print(\"Your Guess Was Too High, Guess Lower\", guess)\n",
        "\n",
        "\n",
        "    chances += 1\n",
        "\n",
        "  if not chances < 5:\n",
        "    print(\"YOU LOSE!!, Correct number is\", number)"
      ]
    }
  ]
}